{
 "cells": [
  {
   "cell_type": "code",
   "execution_count": 21,
   "metadata": {},
   "outputs": [],
   "source": [
    "import spacy\n",
    "pln = spacy.load(\"pt_core_news_sm\")"
   ]
  },
  {
   "cell_type": "code",
   "execution_count": 22,
   "metadata": {},
   "outputs": [],
   "source": [
    "texto1 = \"Eu dançarei na chuva.\"\n",
    "texto2 = \"Eu danço na chuva.\"\n",
    "doc = pln(texto1 + texto2)"
   ]
  },
  {
   "cell_type": "code",
   "execution_count": 23,
   "metadata": {},
   "outputs": [],
   "source": [
    "import nltk\n",
    "stemmer = nltk.stem.RSLPStemmer()"
   ]
  },
  {
   "cell_type": "code",
   "execution_count": 24,
   "metadata": {},
   "outputs": [
    {
     "name": "stdout",
     "output_type": "stream",
     "text": [
      "Eu | eu | eu\n",
      "dançarei | dançarar | danç\n",
      "na | em o | na\n",
      "chuva | chuva | chuv\n",
      ". | . | .\n",
      "Eu | eu | eu\n",
      "danço | dançar | danç\n",
      "na | em o | na\n",
      "chuva | chuva | chuv\n",
      ". | . | .\n"
     ]
    }
   ],
   "source": [
    "for token in doc:\n",
    "    print(token.text, \"|\", token.lemma_, \"|\", stemmer.stem(token.text))"
   ]
  }
 ],
 "metadata": {
  "kernelspec": {
   "display_name": "Python 3",
   "language": "python",
   "name": "python3"
  },
  "language_info": {
   "codemirror_mode": {
    "name": "ipython",
    "version": 3
   },
   "file_extension": ".py",
   "mimetype": "text/x-python",
   "name": "python",
   "nbconvert_exporter": "python",
   "pygments_lexer": "ipython3",
   "version": "3.11.4"
  },
  "orig_nbformat": 4
 },
 "nbformat": 4,
 "nbformat_minor": 2
}
