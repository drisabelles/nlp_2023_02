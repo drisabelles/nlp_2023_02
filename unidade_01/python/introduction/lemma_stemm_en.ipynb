{
 "cells": [
  {
   "cell_type": "code",
   "execution_count": 3,
   "metadata": {},
   "outputs": [],
   "source": [
    "import spacy\n",
    "nlp = spacy.load(\"en_core_web_sm\")"
   ]
  },
  {
   "cell_type": "code",
   "execution_count": 4,
   "metadata": {},
   "outputs": [],
   "source": [
    "texto1 = \"I dance in the rain.\"\n",
    "texto2 = \"I danced in the rain.\"\n",
    "doc = nlp(texto1 + texto2)"
   ]
  },
  {
   "cell_type": "code",
   "execution_count": 5,
   "metadata": {},
   "outputs": [],
   "source": [
    "import nltk\n",
    "from nltk.stem.snowball import SnowballStemmer\n",
    "stemmer = SnowballStemmer('english')"
   ]
  },
  {
   "cell_type": "code",
   "execution_count": 6,
   "metadata": {},
   "outputs": [
    {
     "name": "stdout",
     "output_type": "stream",
     "text": [
      "I | I | i\n",
      "dance | dance | danc\n",
      "in | in | in\n",
      "the | the | the\n",
      "rain | rain | rain\n",
      ". | . | .\n",
      "I | I | i\n",
      "danced | dance | danc\n",
      "in | in | in\n",
      "the | the | the\n",
      "rain | rain | rain\n",
      ". | . | .\n"
     ]
    }
   ],
   "source": [
    "for token in doc:\n",
    "    print(token.text, \"|\", token.lemma_, \"|\", stemmer.stem(token.text))"
   ]
  }
 ],
 "metadata": {
  "kernelspec": {
   "display_name": "Python 3",
   "language": "python",
   "name": "python3"
  },
  "language_info": {
   "codemirror_mode": {
    "name": "ipython",
    "version": 3
   },
   "file_extension": ".py",
   "mimetype": "text/x-python",
   "name": "python",
   "nbconvert_exporter": "python",
   "pygments_lexer": "ipython3",
   "version": "3.11.4"
  },
  "orig_nbformat": 4
 },
 "nbformat": 4,
 "nbformat_minor": 2
}
